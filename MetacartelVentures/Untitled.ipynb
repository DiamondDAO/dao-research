{
 "cells": [
  {
   "cell_type": "code",
   "execution_count": 16,
   "id": "1063da47-b7a4-499a-9342-e83594d0af1b",
   "metadata": {},
   "outputs": [],
   "source": [
    "import json\n",
    "import pandas as pd\n",
    "\n",
    "with open(\"data/13316507-results.json\", 'r') as file:\n",
    "    raw_data = json.load(file)['data']\n",
    "    "
   ]
  },
  {
   "cell_type": "code",
   "execution_count": 17,
   "id": "4702d946-b89e-46bb-98a8-db28565685d2",
   "metadata": {},
   "outputs": [
    {
     "name": "stdout",
     "output_type": "stream",
     "text": [
      "1\n"
     ]
    }
   ],
   "source": [
    "moloches = raw_data['moloches']\n",
    "print(len(moloches))"
   ]
  },
  {
   "cell_type": "code",
   "execution_count": 18,
   "id": "79baf442-dd70-4db1-bd53-a2df947a51ec",
   "metadata": {},
   "outputs": [
    {
     "data": {
      "text/plain": [
       "dict_keys(['createdAt', 'deleted', 'dilutionBound', 'gracePeriodLength', 'guildBankAddress', 'guildBankBalanceV1', 'id', 'members', 'newContract', 'periodDuration', 'processingReward', 'proposalDeposit', 'proposals', 'summoner', 'summoningTime', 'totalLoot', 'totalShares', 'version', 'votingPeriodLength', 'aggregated_metrics'])"
      ]
     },
     "execution_count": 18,
     "metadata": {},
     "output_type": "execute_result"
    }
   ],
   "source": [
    "moloches[0].keys()"
   ]
  },
  {
   "cell_type": "code",
   "execution_count": 19,
   "id": "1d131b29-e339-46ad-b092-86584a7b2339",
   "metadata": {},
   "outputs": [
    {
     "data": {
      "text/html": [
       "<div>\n",
       "<style scoped>\n",
       "    .dataframe tbody tr th:only-of-type {\n",
       "        vertical-align: middle;\n",
       "    }\n",
       "\n",
       "    .dataframe tbody tr th {\n",
       "        vertical-align: top;\n",
       "    }\n",
       "\n",
       "    .dataframe thead th {\n",
       "        text-align: right;\n",
       "    }\n",
       "</style>\n",
       "<table border=\"1\" class=\"dataframe\">\n",
       "  <thead>\n",
       "    <tr style=\"text-align: right;\">\n",
       "      <th></th>\n",
       "      <th>createdAt</th>\n",
       "      <th>deleted</th>\n",
       "      <th>dilutionBound</th>\n",
       "      <th>gracePeriodLength</th>\n",
       "      <th>guildBankAddress</th>\n",
       "      <th>guildBankBalanceV1</th>\n",
       "      <th>id</th>\n",
       "      <th>members</th>\n",
       "      <th>newContract</th>\n",
       "      <th>periodDuration</th>\n",
       "      <th>processingReward</th>\n",
       "      <th>proposalDeposit</th>\n",
       "      <th>proposals</th>\n",
       "      <th>summoner</th>\n",
       "      <th>summoningTime</th>\n",
       "      <th>totalLoot</th>\n",
       "      <th>totalShares</th>\n",
       "      <th>version</th>\n",
       "      <th>votingPeriodLength</th>\n",
       "      <th>aggregated_metrics</th>\n",
       "    </tr>\n",
       "  </thead>\n",
       "  <tbody>\n",
       "    <tr>\n",
       "      <th>0</th>\n",
       "      <td>1581730372</td>\n",
       "      <td>False</td>\n",
       "      <td>3</td>\n",
       "      <td>84</td>\n",
       "      <td>None</td>\n",
       "      <td>None</td>\n",
       "      <td>0x4570b4faf71e23942b8b9f934b47ccedf7540162</td>\n",
       "      <td>[{'createdAt': '1602009236', 'didRagequit': Fa...</td>\n",
       "      <td>1</td>\n",
       "      <td>7200</td>\n",
       "      <td>6660000000000000</td>\n",
       "      <td>200000000000000000</td>\n",
       "      <td>[{'aborted': None, 'actions': [], 'applicant':...</td>\n",
       "      <td>0x8c8b237bea3c23317d08b73d7137e90cafdf68e6</td>\n",
       "      <td>1581730372</td>\n",
       "      <td>603</td>\n",
       "      <td>102821</td>\n",
       "      <td>2</td>\n",
       "      <td>84</td>\n",
       "      <td>{'members': {'all_time_member_count': 110, 'cu...</td>\n",
       "    </tr>\n",
       "  </tbody>\n",
       "</table>\n",
       "</div>"
      ],
      "text/plain": [
       "    createdAt  deleted dilutionBound gracePeriodLength guildBankAddress  \\\n",
       "0  1581730372    False             3                84             None   \n",
       "\n",
       "  guildBankBalanceV1                                          id  \\\n",
       "0               None  0x4570b4faf71e23942b8b9f934b47ccedf7540162   \n",
       "\n",
       "                                             members newContract  \\\n",
       "0  [{'createdAt': '1602009236', 'didRagequit': Fa...           1   \n",
       "\n",
       "  periodDuration  processingReward     proposalDeposit  \\\n",
       "0           7200  6660000000000000  200000000000000000   \n",
       "\n",
       "                                           proposals  \\\n",
       "0  [{'aborted': None, 'actions': [], 'applicant':...   \n",
       "\n",
       "                                     summoner summoningTime totalLoot  \\\n",
       "0  0x8c8b237bea3c23317d08b73d7137e90cafdf68e6    1581730372       603   \n",
       "\n",
       "  totalShares version votingPeriodLength  \\\n",
       "0      102821       2                 84   \n",
       "\n",
       "                                  aggregated_metrics  \n",
       "0  {'members': {'all_time_member_count': 110, 'cu...  "
      ]
     },
     "execution_count": 19,
     "metadata": {},
     "output_type": "execute_result"
    }
   ],
   "source": [
    "moloches_table = pd.DataFrame(moloches)\n",
    "moloches_table.head()"
   ]
  },
  {
   "cell_type": "code",
   "execution_count": 24,
   "id": "1c9d406a-1e6b-4ae0-916e-698b688d9f15",
   "metadata": {},
   "outputs": [],
   "source": [
    "moloches_table['block'] = raw_data['block']\n",
    "moloches_table['timestamp'] = raw_data['timestamp']"
   ]
  },
  {
   "cell_type": "code",
   "execution_count": 26,
   "id": "7b918058-6f6c-431c-88c7-738293f905dd",
   "metadata": {},
   "outputs": [],
   "source": [
    "moloches_table.head()\n",
    "aggregated_metrics_table = moloches_table[['id', 'block', 'timestamp', 'aggregated_metrics']].copy()"
   ]
  },
  {
   "cell_type": "code",
   "execution_count": 29,
   "id": "d6a2d492-d488-4284-865e-267dd97a1c1b",
   "metadata": {},
   "outputs": [
    {
     "data": {
      "text/html": [
       "<div>\n",
       "<style scoped>\n",
       "    .dataframe tbody tr th:only-of-type {\n",
       "        vertical-align: middle;\n",
       "    }\n",
       "\n",
       "    .dataframe tbody tr th {\n",
       "        vertical-align: top;\n",
       "    }\n",
       "\n",
       "    .dataframe thead th {\n",
       "        text-align: right;\n",
       "    }\n",
       "</style>\n",
       "<table border=\"1\" class=\"dataframe\">\n",
       "  <thead>\n",
       "    <tr style=\"text-align: right;\">\n",
       "      <th></th>\n",
       "      <th>members.all_time_member_count</th>\n",
       "      <th>members.current_member_count</th>\n",
       "      <th>members.members_in_multiple_daos</th>\n",
       "      <th>members.average_daos_per_member</th>\n",
       "      <th>members.kicked_member_count</th>\n",
       "      <th>members.rage_quit_member_count</th>\n",
       "      <th>decentralization.voter_participation_rate</th>\n",
       "      <th>decentralization.proposal_rate</th>\n",
       "      <th>proposals.total_proposals</th>\n",
       "      <th>proposals.total_votes</th>\n",
       "      <th>proposals.total_proposals_passed</th>\n",
       "      <th>proposals.total_shares_given</th>\n",
       "      <th>proposals.total_tribute_information</th>\n",
       "      <th>proposals.total_payment_information</th>\n",
       "    </tr>\n",
       "  </thead>\n",
       "  <tbody>\n",
       "    <tr>\n",
       "      <th>0</th>\n",
       "      <td>110</td>\n",
       "      <td>108</td>\n",
       "      <td>30</td>\n",
       "      <td>0.768519</td>\n",
       "      <td>2</td>\n",
       "      <td>0</td>\n",
       "      <td>68.518519</td>\n",
       "      <td>102.777778</td>\n",
       "      <td>371</td>\n",
       "      <td>1355</td>\n",
       "      <td>325</td>\n",
       "      <td>116624</td>\n",
       "      <td>{'WETH': {'decimal': 18, 'token_address': '0xc...</td>\n",
       "      <td>{}</td>\n",
       "    </tr>\n",
       "  </tbody>\n",
       "</table>\n",
       "</div>"
      ],
      "text/plain": [
       "   members.all_time_member_count  members.current_member_count  \\\n",
       "0                            110                           108   \n",
       "\n",
       "   members.members_in_multiple_daos  members.average_daos_per_member  \\\n",
       "0                                30                         0.768519   \n",
       "\n",
       "   members.kicked_member_count  members.rage_quit_member_count  \\\n",
       "0                            2                               0   \n",
       "\n",
       "   decentralization.voter_participation_rate  decentralization.proposal_rate  \\\n",
       "0                                  68.518519                      102.777778   \n",
       "\n",
       "   proposals.total_proposals  proposals.total_votes  \\\n",
       "0                        371                   1355   \n",
       "\n",
       "   proposals.total_proposals_passed  proposals.total_shares_given  \\\n",
       "0                               325                        116624   \n",
       "\n",
       "                 proposals.total_tribute_information  \\\n",
       "0  {'WETH': {'decimal': 18, 'token_address': '0xc...   \n",
       "\n",
       "  proposals.total_payment_information  \n",
       "0                                  {}  "
      ]
     },
     "execution_count": 29,
     "metadata": {},
     "output_type": "execute_result"
    }
   ],
   "source": [
    "pd.json_normalize(aggregated_metrics_table['aggregated_metrics'], max_level = 1)"
   ]
  },
  {
   "cell_type": "code",
   "execution_count": 30,
   "id": "5d60cd40-d592-4759-9385-3ff9c93c656e",
   "metadata": {},
   "outputs": [
    {
     "data": {
      "text/plain": [
       "'13316507'"
      ]
     },
     "execution_count": 30,
     "metadata": {},
     "output_type": "execute_result"
    }
   ],
   "source": [
    "raw_data['block']"
   ]
  },
  {
   "cell_type": "code",
   "execution_count": null,
   "id": "b3141c4a-755f-4dbd-b89b-0361e7daf6ab",
   "metadata": {},
   "outputs": [],
   "source": []
  },
  {
   "cell_type": "code",
   "execution_count": null,
   "id": "51a44b73-9808-49f2-ae89-ce093efefdb3",
   "metadata": {},
   "outputs": [],
   "source": []
  }
 ],
 "metadata": {
  "kernelspec": {
   "display_name": "Python 3",
   "language": "python",
   "name": "python3"
  },
  "language_info": {
   "codemirror_mode": {
    "name": "ipython",
    "version": 3
   },
   "file_extension": ".py",
   "mimetype": "text/x-python",
   "name": "python",
   "nbconvert_exporter": "python",
   "pygments_lexer": "ipython3",
   "version": "3.8.8"
  }
 },
 "nbformat": 4,
 "nbformat_minor": 5
}
